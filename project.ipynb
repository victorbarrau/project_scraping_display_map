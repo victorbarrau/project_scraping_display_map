{
 "cells": [
  {
   "cell_type": "code",
   "execution_count": 3,
   "metadata": {},
   "outputs": [],
   "source": [
    "#scraping with selenium on a website who give a list of entreprise and give us a map at the end \n",
    "from selenium import webdriver\n",
    "from selenium.webdriver.common.keys import Keys\n",
    "from selenium.webdriver.common.by import By\n",
    "from selenium.webdriver.chrome.options import Options\n",
    "import pandas as pd \n",
    "import time\n",
    "import os\n",
    "from selenium import webdriver\n",
    "import folium\n",
    "from geopy.geocoders import Nominatim\n",
    "\n"
   ]
  },
  {
   "cell_type": "code",
   "execution_count": 8,
   "metadata": {},
   "outputs": [
    {
     "name": "stderr",
     "output_type": "stream",
     "text": [
      "/var/folders/_h/1j2lys1s0g344s_0q1rbvvt00000gn/T/ipykernel_33255/3203631495.py:1: DeprecationWarning: executable_path has been deprecated, please pass in a Service object\n",
      "  driver = webdriver.Chrome('/Users/victorbarrau/Documents/chromedriver')  # Optional argument, if not specified will search path.\n"
     ]
    },
    {
     "name": "stdout",
     "output_type": "stream",
     "text": [
      "['32 AV DE FRIEDLAND 75008 PARIS', '1 PL DU PORT VILLIERS 71100 CHALON-SUR-SAONE', '360 CHE DES PLANS 34790 GRABELS']\n"
     ]
    }
   ],
   "source": [
    "\n",
    "driver = webdriver.Chrome('/Users/victorbarrau/Documents/chromedriver')  # Optional argument, if not specified will search path.\n",
    "driver.get('https://www.societe.com');\n",
    "time.sleep(1) \n",
    "list_adress=[]\n",
    "liste_entreprise=['l-up','grill','petit poney']\n",
    "cokies_gratuit=driver.find_element(By.XPATH,'/html/body/div[1]/div/div/div/div/div/span')\n",
    "cokies_gratuit.click()\n",
    "time.sleep(1) \n",
    "for entreprise in liste_entreprise:\n",
    "    search_box = driver.find_element(By.XPATH,'//*[@id=\"input_search\"]')\n",
    "    search_box.send_keys(entreprise)\n",
    "    search_box.submit()\n",
    "    time.sleep(1) \n",
    "    lien=driver.find_element(By.XPATH,'//*[@id=\"result_deno_societe\"]/div[1]/div[1]/a')\n",
    "    lien.click()\n",
    "    time.sleep(1) \n",
    "    adresse=driver.find_element(By.XPATH,'//*[@id=\"rensjur\"]/tbody/tr[5]/td[2]/a')\n",
    "    list_adress.append(adresse.text)\n",
    "    \n",
    "print(list_adress)"
   ]
  },
  {
   "cell_type": "code",
   "execution_count": 15,
   "metadata": {},
   "outputs": [],
   "source": [
    "\n",
    "geolocator = Nominatim(user_agent=\"warzazath\")\n",
    "coordonnées=[]\n",
    "for adresse in list_adress:\n",
    "    location = geolocator.geocode(adresse)\n",
    "    #print(location)\n",
    "    #print(location.address)\n",
    "    #print((location.latitude, location.longitude))\n",
    "    #print(location.raw)\n",
    "    coordonnées.append(location)\n",
    "    \n",
    "map = folium.Map(location=[48.8397929, 2.3098466], zoom_start=12)\n",
    "\n",
    "tooltip = \"Click me!\"\n",
    "liste_entreprise.reverse()\n",
    "j=0\n",
    "for i in coordonnées:\n",
    "    folium.Marker([i.latitude,i.longitude], popup=liste_entreprise[j], tooltip=tooltip).add_to(map)\n",
    "    j+=1\n",
    "map.save(\"index.html\")"
   ]
  },
  {
   "cell_type": "code",
   "execution_count": null,
   "metadata": {},
   "outputs": [],
   "source": []
  }
 ],
 "metadata": {
  "kernelspec": {
   "display_name": "Python 3.9.13 ('env_tf')",
   "language": "python",
   "name": "python3"
  },
  "language_info": {
   "codemirror_mode": {
    "name": "ipython",
    "version": 3
   },
   "file_extension": ".py",
   "mimetype": "text/x-python",
   "name": "python",
   "nbconvert_exporter": "python",
   "pygments_lexer": "ipython3",
   "version": "3.9.13"
  },
  "orig_nbformat": 4,
  "vscode": {
   "interpreter": {
    "hash": "6d8a4c7356728dd928258df47cf64406b2a77150d43af4430265ffe277cf2e5f"
   }
  }
 },
 "nbformat": 4,
 "nbformat_minor": 2
}
