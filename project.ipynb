{
 "cells": [
  {
   "cell_type": "code",
   "execution_count": 10,
   "metadata": {},
   "outputs": [],
   "source": [
    "#scraping with selenium on a website who give a list of entreprise and give us a map at the end \n",
    "from selenium import webdriver\n",
    "from selenium.webdriver.common.keys import Keys\n",
    "from selenium.webdriver.common.by import By\n",
    "from selenium.webdriver.chrome.options import Options\n",
    "import pandas as pd \n",
    "import time\n",
    "import os\n",
    "from selenium import webdriver\n",
    "import folium\n",
    "from geopy.geocoders import Nominatim\n",
    "\n"
   ]
  },
  {
   "cell_type": "code",
   "execution_count": 11,
   "metadata": {},
   "outputs": [
    {
     "name": "stderr",
     "output_type": "stream",
     "text": [
      "/var/folders/_h/1j2lys1s0g344s_0q1rbvvt00000gn/T/ipykernel_22384/3037717288.py:1: DeprecationWarning: executable_path has been deprecated, please pass in a Service object\n",
      "  driver = webdriver.Chrome('/Users/victorbarrau/Documents/chromedriver')  # Optional argument, if not specified will search path.\n"
     ]
    },
    {
     "name": "stdout",
     "output_type": "stream",
     "text": [
      "['32 AV DE FRIEDLAND 75008 PARIS', '1 PL DU PORT VILLIERS 71100 CHALON-SUR-SAONE', '360 CHE DES PLANS 34790 GRABELS']\n"
     ]
    }
   ],
   "source": [
    "\n",
    "driver = webdriver.Chrome('/Users/victorbarrau/Documents/chromedriver')  # Optional argument, if not specified will search path.\n",
    "driver.get('https://www.societe.com');\n",
    "time.sleep(2) # Let the user actually see something!\n",
    "list_adress=[]\n",
    "liste_entreprise=['l-up','grill','petit poney']\n",
    "cokies_gratuit=driver.find_element(By.XPATH,'/html/body/div[1]/div/div/div/div/div/span')\n",
    "cokies_gratuit.click()\n",
    "time.sleep(2) \n",
    "for entreprise in liste_entreprise:\n",
    "    search_box = driver.find_element(By.XPATH,'//*[@id=\"input_search\"]')\n",
    "    search_box.send_keys(entreprise)\n",
    "    search_box.submit()\n",
    "    time.sleep(2) \n",
    "    lien=driver.find_element(By.XPATH,'//*[@id=\"result_deno_societe\"]/div[1]/div[1]/a')\n",
    "    lien.click()\n",
    "    time.sleep(2) \n",
    "    adresse=driver.find_element(By.XPATH,'//*[@id=\"rensjur\"]/tbody/tr[5]/td[2]/a')\n",
    "    list_adress.append(adresse.text)\n",
    "    \n",
    "print(list_adress)"
   ]
  },
  {
   "cell_type": "code",
   "execution_count": 8,
   "metadata": {},
   "outputs": [
    {
     "ename": "IndexError",
     "evalue": "pop from empty list",
     "output_type": "error",
     "traceback": [
      "\u001b[0;31m---------------------------------------------------------------------------\u001b[0m",
      "\u001b[0;31mIndexError\u001b[0m                                Traceback (most recent call last)",
      "\u001b[1;32m/Users/victorbarrau/Documents/ESME 9/data engenierie/td2/victor.barrau.ipynb Cell 3\u001b[0m in \u001b[0;36m<cell line: 16>\u001b[0;34m()\u001b[0m\n\u001b[1;32m     <a href='vscode-notebook-cell:/Users/victorbarrau/Documents/ESME%209/data%20engenierie/td2/victor.barrau.ipynb#W3sZmlsZQ%3D%3D?line=14'>15</a>\u001b[0m liste_entreprise\u001b[39m.\u001b[39mreverse()\n\u001b[1;32m     <a href='vscode-notebook-cell:/Users/victorbarrau/Documents/ESME%209/data%20engenierie/td2/victor.barrau.ipynb#W3sZmlsZQ%3D%3D?line=15'>16</a>\u001b[0m \u001b[39mfor\u001b[39;00m i \u001b[39min\u001b[39;00m coordonnées:\n\u001b[0;32m---> <a href='vscode-notebook-cell:/Users/victorbarrau/Documents/ESME%209/data%20engenierie/td2/victor.barrau.ipynb#W3sZmlsZQ%3D%3D?line=16'>17</a>\u001b[0m     folium\u001b[39m.\u001b[39mMarker([i\u001b[39m.\u001b[39mlatitude,i\u001b[39m.\u001b[39mlongitude], popup\u001b[39m=\u001b[39mliste_entreprise\u001b[39m.\u001b[39;49mpop(), tooltip\u001b[39m=\u001b[39mtooltip)\u001b[39m.\u001b[39madd_to(m)\n\u001b[1;32m     <a href='vscode-notebook-cell:/Users/victorbarrau/Documents/ESME%209/data%20engenierie/td2/victor.barrau.ipynb#W3sZmlsZQ%3D%3D?line=18'>19</a>\u001b[0m m\u001b[39m.\u001b[39msave(\u001b[39m\"\u001b[39m\u001b[39mindex.html\u001b[39m\u001b[39m\"\u001b[39m)\n",
      "\u001b[0;31mIndexError\u001b[0m: pop from empty list"
     ]
    }
   ],
   "source": [
    "\n",
    "geolocator = Nominatim(user_agent=\"warzazath\")\n",
    "coordonnées=[]\n",
    "for adresse in list_adress:\n",
    "    location = geolocator.geocode(adresse)\n",
    "    #print(location)\n",
    "    #print(location.address)\n",
    "    #print((location.latitude, location.longitude))\n",
    "    #print(location.raw)\n",
    "    coordonnées.append(location)\n",
    "    \n",
    "map = folium.Map(location=[48.8397929, 2.3098466], zoom_start=12)\n",
    "\n",
    "tooltip = \"Click me!\"\n",
    "liste_entreprise.reverse()\n",
    "for i in coordonnées:\n",
    "    folium.Marker([i.latitude,i.longitude], popup=liste_entreprise.pop(), tooltip=tooltip).add_to(m)\n",
    "\n",
    "map.save(\"index.html\")"
   ]
  }
 ],
 "metadata": {
  "kernelspec": {
   "display_name": "Python 3.9.13 ('env_tf')",
   "language": "python",
   "name": "python3"
  },
  "language_info": {
   "codemirror_mode": {
    "name": "ipython",
    "version": 3
   },
   "file_extension": ".py",
   "mimetype": "text/x-python",
   "name": "python",
   "nbconvert_exporter": "python",
   "pygments_lexer": "ipython3",
   "version": "3.9.13"
  },
  "orig_nbformat": 4,
  "vscode": {
   "interpreter": {
    "hash": "6d8a4c7356728dd928258df47cf64406b2a77150d43af4430265ffe277cf2e5f"
   }
  }
 },
 "nbformat": 4,
 "nbformat_minor": 2
}
